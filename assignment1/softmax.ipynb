{
 "cells": [
  {
   "cell_type": "markdown",
   "metadata": {},
   "source": [
    "# Softmax exercise\n",
    "\n",
    "*Complete and hand in this completed worksheet (including its outputs and any supporting code outside of the worksheet) with your assignment submission. For more details see the [assignments page](http://vision.stanford.edu/teaching/cs231n/assignments.html) on the course website.*\n",
    "\n",
    "This exercise is analogous to the SVM exercise. You will:\n",
    "\n",
    "- implement a fully-vectorized **loss function** for the Softmax classifier\n",
    "- implement the fully-vectorized expression for its **analytic gradient**\n",
    "- **check your implementation** with numerical gradient\n",
    "- use a validation set to **tune the learning rate and regularization** strength\n",
    "- **optimize** the loss function with **SGD**\n",
    "- **visualize** the final learned weights\n"
   ]
  },
  {
   "cell_type": "code",
   "execution_count": 1,
   "metadata": {},
   "outputs": [],
   "source": [
    "import random\n",
    "import numpy as np\n",
    "from cs231n.data_utils import load_CIFAR10\n",
    "import matplotlib.pyplot as plt\n",
    "\n",
    "from __future__ import print_function\n",
    "\n",
    "%matplotlib inline\n",
    "plt.rcParams['figure.figsize'] = (10.0, 8.0) # set default size of plots\n",
    "plt.rcParams['image.interpolation'] = 'nearest'\n",
    "plt.rcParams['image.cmap'] = 'gray'\n",
    "\n",
    "# for auto-reloading extenrnal modules\n",
    "# see http://stackoverflow.com/questions/1907993/autoreload-of-modules-in-ipython\n",
    "%load_ext autoreload\n",
    "%autoreload 2"
   ]
  },
  {
   "cell_type": "code",
   "execution_count": 2,
   "metadata": {},
   "outputs": [
    {
     "name": "stdout",
     "output_type": "stream",
     "text": [
      "Train data shape:  (49000, 3073)\n",
      "Train labels shape:  (49000,)\n",
      "Validation data shape:  (1000, 3073)\n",
      "Validation labels shape:  (1000,)\n",
      "Test data shape:  (1000, 3073)\n",
      "Test labels shape:  (1000,)\n",
      "dev data shape:  (500, 3073)\n",
      "dev labels shape:  (500,)\n"
     ]
    }
   ],
   "source": [
    "def get_CIFAR10_data(num_training=49000, num_validation=1000, num_test=1000, num_dev=500):\n",
    "    \"\"\"\n",
    "    Load the CIFAR-10 dataset from disk and perform preprocessing to prepare\n",
    "    it for the linear classifier. These are the same steps as we used for the\n",
    "    SVM, but condensed to a single function.  \n",
    "    \"\"\"\n",
    "    # Load the raw CIFAR-10 data\n",
    "    cifar10_dir = 'cs231n/datasets/cifar-10-batches-py'\n",
    "    X_train, y_train, X_test, y_test = load_CIFAR10(cifar10_dir)\n",
    "    \n",
    "    # subsample the data\n",
    "    mask = list(range(num_training, num_training + num_validation))\n",
    "    X_val = X_train[mask]\n",
    "    y_val = y_train[mask]\n",
    "    mask = list(range(num_training))\n",
    "    X_train = X_train[mask]\n",
    "    y_train = y_train[mask]\n",
    "    mask = list(range(num_test))\n",
    "    X_test = X_test[mask]\n",
    "    y_test = y_test[mask]\n",
    "    mask = np.random.choice(num_training, num_dev, replace=False)\n",
    "    X_dev = X_train[mask]\n",
    "    y_dev = y_train[mask]\n",
    "    \n",
    "    # Preprocessing: reshape the image data into rows\n",
    "    X_train = np.reshape(X_train, (X_train.shape[0], -1))\n",
    "    X_val = np.reshape(X_val, (X_val.shape[0], -1))\n",
    "    X_test = np.reshape(X_test, (X_test.shape[0], -1))\n",
    "    X_dev = np.reshape(X_dev, (X_dev.shape[0], -1))\n",
    "    \n",
    "    # Normalize the data: subtract the mean image\n",
    "    mean_image = np.mean(X_train, axis = 0)\n",
    "    X_train -= mean_image\n",
    "    X_val -= mean_image\n",
    "    X_test -= mean_image\n",
    "    X_dev -= mean_image\n",
    "    \n",
    "    # add bias dimension and transform into columns\n",
    "    X_train = np.hstack([X_train, np.ones((X_train.shape[0], 1))])\n",
    "    X_val = np.hstack([X_val, np.ones((X_val.shape[0], 1))])\n",
    "    X_test = np.hstack([X_test, np.ones((X_test.shape[0], 1))])\n",
    "    X_dev = np.hstack([X_dev, np.ones((X_dev.shape[0], 1))])\n",
    "    \n",
    "    return X_train, y_train, X_val, y_val, X_test, y_test, X_dev, y_dev\n",
    "\n",
    "\n",
    "# Invoke the above function to get our data.\n",
    "X_train, y_train, X_val, y_val, X_test, y_test, X_dev, y_dev = get_CIFAR10_data()\n",
    "print('Train data shape: ', X_train.shape)\n",
    "print('Train labels shape: ', y_train.shape)\n",
    "print('Validation data shape: ', X_val.shape)\n",
    "print('Validation labels shape: ', y_val.shape)\n",
    "print('Test data shape: ', X_test.shape)\n",
    "print('Test labels shape: ', y_test.shape)\n",
    "print('dev data shape: ', X_dev.shape)\n",
    "print('dev labels shape: ', y_dev.shape)"
   ]
  },
  {
   "cell_type": "markdown",
   "metadata": {},
   "source": [
    "## Softmax Classifier\n",
    "\n",
    "Your code for this section will all be written inside **cs231n/classifiers/softmax.py**. \n"
   ]
  },
  {
   "cell_type": "code",
   "execution_count": 3,
   "metadata": {},
   "outputs": [
    {
     "name": "stdout",
     "output_type": "stream",
     "text": [
      "loss: 2.360420\n",
      "sanity check: 2.302585\n"
     ]
    }
   ],
   "source": [
    "# First implement the naive softmax loss function with nested loops.\n",
    "# Open the file cs231n/classifiers/softmax.py and implement the\n",
    "# softmax_loss_naive function.\n",
    "\n",
    "from cs231n.classifiers.softmax import softmax_loss_naive\n",
    "import time\n",
    "\n",
    "# Generate a random softmax weight matrix and use it to compute the loss.\n",
    "W = np.random.randn(3073, 10) * 0.0001\n",
    "loss, grad = softmax_loss_naive(W, X_dev, y_dev, 0.0)\n",
    "\n",
    "# As a rough sanity check, our loss should be something close to -log(0.1).\n",
    "print('loss: %f' % loss)\n",
    "print('sanity check: %f' % (-np.log(0.1)))"
   ]
  },
  {
   "cell_type": "markdown",
   "metadata": {},
   "source": [
    "## Inline Question 1:\n",
    "Why do we expect our loss to be close to -log(0.1)? Explain briefly.**\n",
    "\n",
    "**Your answer:** *The softmax loss is equivalent to the cross-entropy loss of softmax output of scores where the softmax output represents the probability of each class. In the begining, since the network is randomly set, the probability of each class should be 1 / num_classes. Therefore, the loss should be close to -log(1/num_class) = -log(0.1)*\n"
   ]
  },
  {
   "cell_type": "code",
   "execution_count": 4,
   "metadata": {},
   "outputs": [
    {
     "name": "stdout",
     "output_type": "stream",
     "text": [
      "numerical: -2.116464 analytic: -2.116464, relative error: 4.858251e-08\n",
      "numerical: 3.326173 analytic: 3.326173, relative error: 6.607991e-09\n",
      "numerical: 1.396259 analytic: 1.396259, relative error: 1.088692e-08\n",
      "numerical: -1.625385 analytic: -1.625385, relative error: 2.072802e-08\n",
      "numerical: -2.934592 analytic: -2.934593, relative error: 4.225460e-08\n",
      "numerical: -0.967846 analytic: -0.967846, relative error: 7.338560e-09\n",
      "numerical: 5.345350 analytic: 5.345350, relative error: 4.813732e-09\n",
      "numerical: -0.075065 analytic: -0.075065, relative error: 1.180830e-07\n",
      "numerical: -1.274626 analytic: -1.274626, relative error: 1.116837e-08\n",
      "numerical: 3.386456 analytic: 3.386456, relative error: 2.452387e-08\n",
      "numerical: -0.417605 analytic: -0.420339, relative error: 3.263313e-03\n",
      "numerical: 2.150168 analytic: 2.146344, relative error: 8.899813e-04\n",
      "numerical: -1.229653 analytic: -1.243144, relative error: 5.455937e-03\n",
      "numerical: -0.889190 analytic: -0.888076, relative error: 6.267238e-04\n",
      "numerical: -0.983440 analytic: -0.983295, relative error: 7.369208e-05\n",
      "numerical: 0.446047 analytic: 0.449208, relative error: 3.530674e-03\n",
      "numerical: 3.271861 analytic: 3.270924, relative error: 1.432026e-04\n",
      "numerical: 0.026602 analytic: 0.024353, relative error: 4.412340e-02\n",
      "numerical: 1.757240 analytic: 1.755714, relative error: 4.343117e-04\n",
      "numerical: 1.182262 analytic: 1.185999, relative error: 1.578016e-03\n"
     ]
    }
   ],
   "source": [
    "# Complete the implementation of softmax_loss_naive and implement a (naive)\n",
    "# version of the gradient that uses nested loops.\n",
    "loss, grad = softmax_loss_naive(W, X_dev, y_dev, 0.0)\n",
    "\n",
    "# As we did for the SVM, use numeric gradient checking as a debugging tool.\n",
    "# The numeric gradient should be close to the analytic gradient.\n",
    "from cs231n.gradient_check import grad_check_sparse\n",
    "f = lambda w: softmax_loss_naive(w, X_dev, y_dev, 0.0)[0]\n",
    "grad_numerical = grad_check_sparse(f, W, grad, 10)\n",
    "\n",
    "# similar to SVM case, do another gradient check with regularization\n",
    "loss, grad = softmax_loss_naive(W, X_dev, y_dev, 5e1)\n",
    "f = lambda w: softmax_loss_naive(w, X_dev, y_dev, 5e1)[0]\n",
    "grad_numerical = grad_check_sparse(f, W, grad, 10)"
   ]
  },
  {
   "cell_type": "code",
   "execution_count": 5,
   "metadata": {},
   "outputs": [
    {
     "name": "stdout",
     "output_type": "stream",
     "text": [
      "naive loss: 2.360420e+00 computed in 14.928521s\n",
      "vectorized loss: 2.360420e+00 computed in 0.005015s\n",
      "Loss difference: 0.000000\n",
      "Gradient difference: 0.000000\n"
     ]
    }
   ],
   "source": [
    "# Now that we have a naive implementation of the softmax loss function and its gradient,\n",
    "# implement a vectorized version in softmax_loss_vectorized.\n",
    "# The two versions should compute the same results, but the vectorized version should be\n",
    "# much faster.\n",
    "tic = time.time()\n",
    "loss_naive, grad_naive = softmax_loss_naive(W, X_dev, y_dev, 0.000005)\n",
    "toc = time.time()\n",
    "print('naive loss: %e computed in %fs' % (loss_naive, toc - tic))\n",
    "\n",
    "from cs231n.classifiers.softmax import softmax_loss_vectorized\n",
    "tic = time.time()\n",
    "loss_vectorized, grad_vectorized = softmax_loss_vectorized(W, X_dev, y_dev, 0.000005)\n",
    "toc = time.time()\n",
    "print('vectorized loss: %e computed in %fs' % (loss_vectorized, toc - tic))\n",
    "\n",
    "# As we did for the SVM, we use the Frobenius norm to compare the two versions\n",
    "# of the gradient.\n",
    "grad_difference = np.linalg.norm(grad_naive - grad_vectorized, ord='fro')\n",
    "print('Loss difference: %f' % np.abs(loss_naive - loss_vectorized))\n",
    "print('Gradient difference: %f' % grad_difference)"
   ]
  },
  {
   "cell_type": "code",
   "execution_count": 6,
   "metadata": {},
   "outputs": [
    {
     "name": "stdout",
     "output_type": "stream",
     "text": [
      "iteration 0 / 2000: loss 5.471541\n",
      "iteration 100 / 2000: loss 2.977750\n",
      "iteration 200 / 2000: loss 2.574008\n",
      "iteration 300 / 2000: loss 2.276799\n",
      "iteration 400 / 2000: loss 2.021974\n",
      "iteration 500 / 2000: loss 2.037841\n",
      "iteration 600 / 2000: loss 2.001505\n",
      "iteration 700 / 2000: loss 1.995890\n",
      "iteration 800 / 2000: loss 1.954406\n",
      "iteration 900 / 2000: loss 1.985875\n",
      "iteration 1000 / 2000: loss 1.882932\n",
      "iteration 1100 / 2000: loss 1.896511\n",
      "iteration 1200 / 2000: loss 2.008927\n",
      "iteration 1300 / 2000: loss 1.952216\n",
      "iteration 1400 / 2000: loss 1.915515\n",
      "iteration 1500 / 2000: loss 1.961543\n",
      "iteration 1600 / 2000: loss 1.970861\n",
      "iteration 1700 / 2000: loss 2.007717\n",
      "iteration 1800 / 2000: loss 1.941056\n",
      "iteration 1900 / 2000: loss 1.954048\n",
      "iteration 0 / 2000: loss 5.539173\n",
      "iteration 100 / 2000: loss 2.758043\n",
      "iteration 200 / 2000: loss 2.254932\n",
      "iteration 300 / 2000: loss 2.040052\n",
      "iteration 400 / 2000: loss 2.033014\n",
      "iteration 500 / 2000: loss 1.993116\n",
      "iteration 600 / 2000: loss 1.955312\n",
      "iteration 700 / 2000: loss 1.983603\n",
      "iteration 800 / 2000: loss 2.076107\n",
      "iteration 900 / 2000: loss 1.974625\n",
      "iteration 1000 / 2000: loss 2.049606\n",
      "iteration 1100 / 2000: loss 2.010876\n",
      "iteration 1200 / 2000: loss 1.982903\n",
      "iteration 1300 / 2000: loss 2.006323\n",
      "iteration 1400 / 2000: loss 2.067775\n",
      "iteration 1500 / 2000: loss 1.996155\n",
      "iteration 1600 / 2000: loss 2.016229\n",
      "iteration 1700 / 2000: loss 1.990209\n",
      "iteration 1800 / 2000: loss 1.942574\n",
      "iteration 1900 / 2000: loss 2.002205\n",
      "iteration 0 / 2000: loss 5.884011\n",
      "iteration 100 / 2000: loss 2.172810\n",
      "iteration 200 / 2000: loss 1.967941\n",
      "iteration 300 / 2000: loss 1.945336\n",
      "iteration 400 / 2000: loss 1.865287\n",
      "iteration 500 / 2000: loss 1.968094\n",
      "iteration 600 / 2000: loss 1.913401\n",
      "iteration 700 / 2000: loss 1.952889\n",
      "iteration 800 / 2000: loss 1.854634\n",
      "iteration 900 / 2000: loss 1.887033\n",
      "iteration 1000 / 2000: loss 1.946185\n",
      "iteration 1100 / 2000: loss 1.901700\n",
      "iteration 1200 / 2000: loss 1.981013\n",
      "iteration 1300 / 2000: loss 2.019964\n",
      "iteration 1400 / 2000: loss 1.888799\n",
      "iteration 1500 / 2000: loss 1.944343\n",
      "iteration 1600 / 2000: loss 1.999488\n",
      "iteration 1700 / 2000: loss 1.897401\n",
      "iteration 1800 / 2000: loss 1.939718\n",
      "iteration 1900 / 2000: loss 1.961916\n",
      "iteration 0 / 2000: loss 5.248327\n",
      "iteration 100 / 2000: loss 1.975028\n",
      "iteration 200 / 2000: loss 1.996503\n",
      "iteration 300 / 2000: loss 2.033960\n",
      "iteration 400 / 2000: loss 2.074816\n",
      "iteration 500 / 2000: loss 1.996858\n",
      "iteration 600 / 2000: loss 1.990607\n",
      "iteration 700 / 2000: loss 1.953111\n",
      "iteration 800 / 2000: loss 1.989996\n",
      "iteration 900 / 2000: loss 2.024010\n",
      "iteration 1000 / 2000: loss 1.928423\n",
      "iteration 1100 / 2000: loss 1.996611\n",
      "iteration 1200 / 2000: loss 1.973372\n",
      "iteration 1300 / 2000: loss 2.024440\n",
      "iteration 1400 / 2000: loss 2.033310\n",
      "iteration 1500 / 2000: loss 1.964331\n",
      "iteration 1600 / 2000: loss 1.987338\n",
      "iteration 1700 / 2000: loss 1.960260\n",
      "iteration 1800 / 2000: loss 2.039345\n",
      "iteration 1900 / 2000: loss 1.994404\n",
      "lr 1.000000e-07 reg 2.500000e+04 train accuracy: 0.350020 val accuracy: 0.363000\n",
      "lr 1.000000e-07 reg 5.000000e+04 train accuracy: 0.328959 val accuracy: 0.338000\n",
      "lr 5.000000e-07 reg 2.500000e+04 train accuracy: 0.347449 val accuracy: 0.357000\n",
      "lr 5.000000e-07 reg 5.000000e+04 train accuracy: 0.319694 val accuracy: 0.328000\n",
      "best validation accuracy achieved during cross-validation: 0.363000\n"
     ]
    }
   ],
   "source": [
    "# Use the validation set to tune hyperparameters (regularization strength and\n",
    "# learning rate). You should experiment with different ranges for the learning\n",
    "# rates and regularization strengths; if you are careful you should be able to\n",
    "# get a classification accuracy of over 0.35 on the validation set.\n",
    "from cs231n.classifiers import Softmax\n",
    "results = {}\n",
    "best_val = -1\n",
    "best_softmax = None\n",
    "learning_rates = [1e-7, 5e-7]\n",
    "regularization_strengths = [2.5e4, 5e4]\n",
    "\n",
    "################################################################################\n",
    "# TODO:                                                                        #\n",
    "# Use the validation set to set the learning rate and regularization strength. #\n",
    "# This should be identical to the validation that you did for the SVM; save    #\n",
    "# the best trained softmax classifer in best_softmax.                          #\n",
    "################################################################################\n",
    "num_train = X_train.shape[0]\n",
    "num_val = X_val.shape[0]\n",
    "num_iters = 2000\n",
    "for lr in learning_rates:\n",
    "    for reg in regularization_strengths:\n",
    "        # train\n",
    "        classifier = Softmax()\n",
    "        classifier.train(X_train, y_train,\n",
    "                         learning_rate=lr, reg=reg,\n",
    "                         num_iters=num_iters, verbose=True)\n",
    "        \n",
    "        # calculate accuracy\n",
    "        y_pred = classifier.predict(X_train)\n",
    "        train_accuracy = float(np.sum(y_train == y_pred)) / num_train\n",
    "        y_pred = classifier.predict(X_val) \n",
    "        val_accuracy = float(np.sum(y_val == y_pred)) / num_val\n",
    "        results[(lr, reg)] = (train_accuracy, val_accuracy)\n",
    "        \n",
    "        if val_accuracy > best_val:\n",
    "          best_val = val_accuracy\n",
    "          best_softmax = classifier\n",
    "        \n",
    "################################################################################\n",
    "#                              END OF YOUR CODE                                #\n",
    "################################################################################\n",
    "\n",
    "# Print out results.\n",
    "for lr, reg in sorted(results):\n",
    "    train_accuracy, val_accuracy = results[(lr, reg)]\n",
    "    print('lr %e reg %e train accuracy: %f val accuracy: %f' % (\n",
    "                lr, reg, train_accuracy, val_accuracy))\n",
    "    \n",
    "print('best validation accuracy achieved during cross-validation: %f' % best_val)"
   ]
  },
  {
   "cell_type": "code",
   "execution_count": 7,
   "metadata": {},
   "outputs": [
    {
     "name": "stdout",
     "output_type": "stream",
     "text": [
      "softmax on raw pixels final test set accuracy: 0.365000\n"
     ]
    }
   ],
   "source": [
    "# evaluate on test set\n",
    "# Evaluate the best softmax on test set\n",
    "y_test_pred = best_softmax.predict(X_test)\n",
    "test_accuracy = np.mean(y_test == y_test_pred)\n",
    "print('softmax on raw pixels final test set accuracy: %f' % (test_accuracy, ))"
   ]
  },
  {
   "cell_type": "code",
   "execution_count": 8,
   "metadata": {},
   "outputs": [
    {
     "data": {
      "image/png": "[encoded data removed]",
      "text/plain": [
       "<matplotlib.figure.Figure at 0x7f82c6602908>"
      ]
     },
     "metadata": {},
     "output_type": "display_data"
    }
   ],
   "source": [
    "# Visualize the learned weights for each class\n",
    "w = best_softmax.W[:-1,:] # strip out the bias\n",
    "w = w.reshape(32, 32, 3, 10)\n",
    "\n",
    "w_min, w_max = np.min(w), np.max(w)\n",
    "\n",
    "classes = ['plane', 'car', 'bird', 'cat', 'deer', 'dog', 'frog', 'horse', 'ship', 'truck']\n",
    "for i in range(10):\n",
    "    plt.subplot(2, 5, i + 1)\n",
    "    \n",
    "    # Rescale the weights to be between 0 and 255\n",
    "    wimg = 255.0 * (w[:, :, :, i].squeeze() - w_min) / (w_max - w_min)\n",
    "    plt.imshow(wimg.astype('uint8'))\n",
    "    plt.axis('off')\n",
    "    plt.title(classes[i])"
   ]
  },
  {
   "cell_type": "code",
   "execution_count": null,
   "metadata": {},
   "outputs": [],
   "source": []
  }
 ],
 "metadata": {
  "kernelspec": {
   "display_name": "Python 2",
   "language": "python",
   "name": "python2"
  },
  "language_info": {
   "codemirror_mode": {
    "name": "ipython",
    "version": 3
   },
   "file_extension": ".py",
   "mimetype": "text/x-python",
   "name": "python",
   "nbconvert_exporter": "python",
   "pygments_lexer": "ipython3",
   "version": "3.4.3"
  }
 },
 "nbformat": 4,
 "nbformat_minor": 1
}
